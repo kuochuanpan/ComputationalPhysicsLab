{
 "cells": [
  {
   "cell_type": "code",
   "execution_count": null,
   "metadata": {},
   "outputs": [],
   "source": [
    "import matplotlib.pyplot as plt\n",
    "import matplotlib as mpl"
   ]
  },
  {
   "cell_type": "markdown",
   "metadata": {},
   "source": [
    "## Data Visualization using Matplotlib\n",
    "\n",
    "A simplest example"
   ]
  },
  {
   "cell_type": "code",
   "execution_count": null,
   "metadata": {},
   "outputs": [],
   "source": [
    "plt.figure(1)\n",
    "plt.plot([0,1,2],[3,6,8],'-',label=\"line 1\")\n",
    "plt.xlabel(\"X [unit]\")\n",
    "plt.ylabel(r\"math $\\pi$ [unit]\")\n",
    "plt.legend(loc=\"best\")\n",
    "plt.show()"
   ]
  },
  {
   "cell_type": "markdown",
   "metadata": {},
   "source": [
    "### Make it better"
   ]
  },
  {
   "cell_type": "code",
   "execution_count": null,
   "metadata": {},
   "outputs": [],
   "source": [
    "plt.figure(1)\n",
    "plt.plot([0,1,2],[3,6,8],'-o',label=\"line 1\",linewidth=3)\n",
    "plt.xlabel(\"X [unit]\",fontsize=16)\n",
    "plt.ylabel(r\"math $\\pi$ [unit]\",fontsize=16)\n",
    "plt.legend(loc=\"best\",frameon=False)\n",
    "plt.show()"
   ]
  },
  {
   "cell_type": "markdown",
   "metadata": {},
   "source": [
    "### Tips 1: Use `rcParams` to change the style"
   ]
  },
  {
   "cell_type": "code",
   "execution_count": null,
   "metadata": {},
   "outputs": [],
   "source": [
    "plt.rcParams[\"font.family\"] = \"Poppins\"\n",
    "plt.rcParams[\"figure.figsize\"] = 12, 8\n",
    "plt.rcParams[\"axes.spines.top\"] = False\n",
    "plt.rcParams[\"axes.spines.right\"] = False\n",
    "plt.rcParams[\"font.size\"] = 22\n",
    "plt.rcParams[\"figure.titlesize\"] = \"xx-large\"\n",
    "plt.rcParams[\"xtick.labelsize\"] = \"medium\"\n",
    "plt.rcParams[\"ytick.labelsize\"] = \"medium\""
   ]
  },
  {
   "cell_type": "code",
   "execution_count": null,
   "metadata": {},
   "outputs": [],
   "source": [
    "plt.figure(1)\n",
    "plt.plot([0,1,2],[3,6,8],'-o',label=\"line 1\",linewidth=4)\n",
    "plt.plot([0,1,2],[4,3,9],'-o',label=\"line 2\",linewidth=4)\n",
    "plt.plot([0,1,2,3],[2,7,10,8],'-o',label=\"line 3\",linewidth=4)\n",
    "plt.xlabel(\"X [unit]\")\n",
    "plt.ylabel(r\"math $\\pi$ [unit]\")\n",
    "plt.legend(loc=\"best\",frameon=False,fontsize=20)\n",
    "plt.tight_layout()\n",
    "plt.show()"
   ]
  },
  {
   "cell_type": "markdown",
   "metadata": {},
   "source": [
    "### Tips 2: custmize your only color palettes \n",
    "\n",
    "REF:\n",
    "* https://www.pinterest.com/pin/449585975301363405/\n",
    "* https://coolors.co/\n"
   ]
  },
  {
   "cell_type": "code",
   "execution_count": null,
   "metadata": {},
   "outputs": [],
   "source": [
    "# color\n",
    "tot = 255.0; colors = {}\n",
    "colors[\"b\"] = (114./tot, 158./tot, 206./tot)\n",
    "colors[\"o\"] = (255./tot, 158./tot, 74./tot)\n",
    "colors[\"g\"]  = (103./tot, 191./tot, 92./tot)\n",
    "colors[\"m\"]   = (173./tot, 139./tot, 201./tot)\n",
    "colors[\"r\"] = (237./tot, 102./tot, 93./tot)"
   ]
  },
  {
   "cell_type": "code",
   "execution_count": null,
   "metadata": {},
   "outputs": [],
   "source": [
    "plt.figure(1)\n",
    "plt.plot([0,1,2],[3,6,8],'-o',color=colors[\"b\"],label=\"line 1\",linewidth=4)\n",
    "plt.plot([0,1,2],[4,3,9],'-o',color=colors[\"o\"],label=\"line 2\",linewidth=4)\n",
    "plt.plot([0,1,2,3],[2,7,10,8],'-o',color=colors[\"g\"],label=\"line 3\",linewidth=4)\n",
    "plt.xlabel(\"X [unit]\")\n",
    "plt.ylabel(r\"math $\\pi$ [unit]\")\n",
    "plt.legend(loc=\"best\",frameon=False,fontsize=20)\n",
    "plt.tight_layout()\n",
    "plt.show()"
   ]
  },
  {
   "cell_type": "code",
   "execution_count": null,
   "metadata": {},
   "outputs": [],
   "source": []
  },
  {
   "cell_type": "markdown",
   "metadata": {},
   "source": [
    "### Tips 3: Use other styles\n",
    "\n",
    "For example `SciencePlots` \\\n",
    "ref: https://github.com/garrettj403/SciencePlots \\\n",
    "install the SciencePlots by `pip install SciencePlots`\n",
    "\n",
    "Wiki: https://github.com/garrettj403/SciencePlots/wiki/Gallery"
   ]
  },
  {
   "cell_type": "code",
   "execution_count": null,
   "metadata": {},
   "outputs": [],
   "source": [
    "import matplotlib.pyplot as plt\n",
    "plt.style.use(['science','notebook'])"
   ]
  },
  {
   "cell_type": "code",
   "execution_count": null,
   "metadata": {},
   "outputs": [],
   "source": [
    "plt.figure(1)\n",
    "plt.plot([0,1,2],[3,6,8],'-o',label=\"line 1\")\n",
    "plt.plot([0,1,2],[4,3,9],'-o',label=\"line 2\")\n",
    "plt.plot([0,1,2,3],[2,7,10,8],'-o',label=\"line 3\")\n",
    "plt.xlabel(\"X (unit)\")\n",
    "plt.ylabel(r\"math $\\pi$ (unit)\")\n",
    "plt.legend(loc=\"best\",frameon=False)\n",
    "plt.tight_layout()\n",
    "plt.savefig('fig_sciplots.pdf')"
   ]
  },
  {
   "cell_type": "markdown",
   "metadata": {},
   "source": [
    "### Seaborn\n",
    "\n",
    "Another popular package for data scientist is the Seaborn \\\n",
    "REF: https://seaborn.pydata.org/\n",
    "\n",
    "install it by `conda install seaborn -c conda-forge`\n",
    "\n",
    "Check [here](https://seaborn.pydata.org/examples/index.html) for more examples"
   ]
  },
  {
   "cell_type": "markdown",
   "metadata": {},
   "source": []
  }
 ],
 "metadata": {
  "kernelspec": {
   "display_name": "Python 3.9.13 ('comphyslab')",
   "language": "python",
   "name": "python3"
  },
  "language_info": {
   "codemirror_mode": {
    "name": "ipython",
    "version": 3
   },
   "file_extension": ".py",
   "mimetype": "text/x-python",
   "name": "python",
   "nbconvert_exporter": "python",
   "pygments_lexer": "ipython3",
   "version": "3.9.13"
  },
  "orig_nbformat": 4,
  "vscode": {
   "interpreter": {
    "hash": "a3dfd579827455768bf494aeca26de0aebf29b51ab3d2d8f55a38002e16c86b7"
   }
  }
 },
 "nbformat": 4,
 "nbformat_minor": 2
}
