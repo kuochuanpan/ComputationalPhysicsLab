{
 "cells": [
  {
   "cell_type": "code",
   "execution_count": null,
   "metadata": {},
   "outputs": [],
   "source": [
    "import numpy as np\n",
    "import matplotlib.pyplot as plt\n",
    "import mysolver as solver"
   ]
  },
  {
   "cell_type": "markdown",
   "metadata": {},
   "source": [
    "# Damped Oscillation"
   ]
  },
  {
   "cell_type": "code",
   "execution_count": null,
   "metadata": {},
   "outputs": [],
   "source": [
    "def oscillator(t,y,K,M,L):\n",
    "        \"\"\"\n",
    "        The derivate function for an oscillator\n",
    "        In this example, we set\n",
    "\n",
    "        y[0] = x\n",
    "        y[1] = v\n",
    "\n",
    "        yderive[0] = x' = v\n",
    "        yderive[1] = v' = a\n",
    "\n",
    "        :param t: the time\n",
    "        :param y: the input values\n",
    "        :param K: the spring constant\n",
    "        :param M: the mass of the oscillator\n",
    "        :param L: the damping constant\n",
    "        :param args: extra parameters, here args=(K,M,L) \n",
    "\n",
    "        \"\"\"\n",
    "\n",
    "        #\n",
    "        # TODO\n",
    "        #\n",
    "\n",
    "        return yderive"
   ]
  },
  {
   "cell_type": "code",
   "execution_count": null,
   "metadata": {},
   "outputs": [],
   "source": [
    "# Solve your IVP here"
   ]
  },
  {
   "cell_type": "code",
   "execution_count": null,
   "metadata": {},
   "outputs": [],
   "source": []
  },
  {
   "cell_type": "markdown",
   "metadata": {},
   "source": [
    "# Analytical Solution"
   ]
  },
  {
   "cell_type": "code",
   "execution_count": null,
   "metadata": {},
   "outputs": [],
   "source": [
    "# Calculate analytical solution here\n"
   ]
  },
  {
   "cell_type": "code",
   "execution_count": null,
   "metadata": {},
   "outputs": [],
   "source": [
    "# Visualize your solution here\n"
   ]
  },
  {
   "cell_type": "code",
   "execution_count": null,
   "metadata": {},
   "outputs": [],
   "source": []
  }
 ],
 "metadata": {
  "kernelspec": {
   "display_name": "Python 3.9.13 ('comphyslab')",
   "language": "python",
   "name": "python3"
  },
  "language_info": {
   "codemirror_mode": {
    "name": "ipython",
    "version": 3
   },
   "file_extension": ".py",
   "mimetype": "text/x-python",
   "name": "python",
   "nbconvert_exporter": "python",
   "pygments_lexer": "ipython3",
   "version": "3.9.13"
  },
  "orig_nbformat": 4,
  "vscode": {
   "interpreter": {
    "hash": "8f0bcd1b4298e7001d18a405ab7bf6e793bc5e255b60eba5aae1bd7ca7b86ffe"
   }
  }
 },
 "nbformat": 4,
 "nbformat_minor": 2
}
