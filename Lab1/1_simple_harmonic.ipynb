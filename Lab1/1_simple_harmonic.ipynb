{
 "cells": [
  {
   "cell_type": "code",
   "execution_count": null,
   "metadata": {},
   "outputs": [],
   "source": [
    "import numpy as np\n",
    "import matplotlib.pyplot as plt"
   ]
  },
  {
   "cell_type": "markdown",
   "metadata": {},
   "source": [
    "# Simple Harmonic Oscillator\n",
    "\n",
    "In this notebook, we numericlly solve the motion of a simple harmonic oscillator, using our own IVP solver `mysolver.py`.\n",
    "Import it by `import mysolver as solver`."
   ]
  },
  {
   "cell_type": "code",
   "execution_count": null,
   "metadata": {},
   "outputs": [],
   "source": [
    "#import mysolver as solver"
   ]
  },
  {
   "cell_type": "markdown",
   "metadata": {},
   "source": [
    "In the solver, we have to define the function to solve, i.e. define y' = f(t,y)."
   ]
  },
  {
   "cell_type": "code",
   "execution_count": null,
   "metadata": {},
   "outputs": [],
   "source": [
    "def oscillator(t,y,K,M):\n",
    "        \"\"\"\n",
    "        The derivate function for an oscillator\n",
    "        In this example, we set\n",
    "\n",
    "        y[0] = x\n",
    "        y[1] = v\n",
    "\n",
    "        yderive[0] = x' = v\n",
    "        yderive[1] = v' = a\n",
    "\n",
    "        :param t: the time\n",
    "        :param y: the input values\n",
    "        :param K: the spring constant\n",
    "        :param M: the mass of the oscillator\n",
    "\n",
    "        \"\"\"\n",
    "        return yderive"
   ]
  },
  {
   "cell_type": "markdown",
   "metadata": {},
   "source": [
    "Start from a large time step (50 steps) to compare different integration method.\n",
    "\n",
    "Let's assume the inital location of the oscillator is located at x = 1.0 (`A=1` and `y=[1,0]`).\\\n",
    "Assume the spring constant `K=1` and the mass of the oscillator `M=1`. \n",
    "\n",
    "Simulate the motion of the oscilator from time `t=0` upto `t=20` seconds.  "
   ]
  },
  {
   "cell_type": "code",
   "execution_count": null,
   "metadata": {},
   "outputs": [],
   "source": [
    "A = 1 # the initial amplitude\n",
    "K = 1 # the spring constant\n",
    "M = 1 # the mass of the \n",
    "\n",
    "t_span = (0, 20)\n",
    "y0     = np.array([A,0])\n",
    "t_eval = np.linspace(0,20,50)"
   ]
  },
  {
   "cell_type": "markdown",
   "metadata": {},
   "source": [
    "Now, let's solve this IVP with different numerical schemes:\n",
    "\n",
    "Euler's meothd:"
   ]
  },
  {
   "cell_type": "code",
   "execution_count": null,
   "metadata": {},
   "outputs": [],
   "source": []
  },
  {
   "cell_type": "markdown",
   "metadata": {},
   "source": [
    "Runge-Kutta 2:"
   ]
  },
  {
   "cell_type": "code",
   "execution_count": null,
   "metadata": {},
   "outputs": [],
   "source": []
  },
  {
   "cell_type": "markdown",
   "metadata": {},
   "source": [
    "Runge-Kutta 4:"
   ]
  },
  {
   "cell_type": "code",
   "execution_count": null,
   "metadata": {},
   "outputs": [],
   "source": []
  },
  {
   "cell_type": "markdown",
   "metadata": {},
   "source": [
    "### Analytical solution\n",
    "\n",
    "For a simple harmonic oscillator, we know the analytical soltions."
   ]
  },
  {
   "cell_type": "code",
   "execution_count": null,
   "metadata": {},
   "outputs": [],
   "source": []
  },
  {
   "cell_type": "markdown",
   "metadata": {},
   "source": [
    "Visualize the numerical and analytical solutions.\n",
    "\n",
    "Check both the position and velocity."
   ]
  },
  {
   "cell_type": "code",
   "execution_count": null,
   "metadata": {},
   "outputs": [],
   "source": [
    "\n"
   ]
  },
  {
   "cell_type": "code",
   "execution_count": null,
   "metadata": {},
   "outputs": [],
   "source": []
  },
  {
   "cell_type": "markdown",
   "metadata": {},
   "source": [
    "Now, repeat the calculations with different time steps. See how solution converged.\\\n",
    "Does your solutions close to the analytical solutions?\\ \n",
    "If yes, how small the time step with each numerical method?\\\n",
    "If not, why?  "
   ]
  },
  {
   "cell_type": "markdown",
   "metadata": {},
   "source": [
    "### Energy Conservation\n",
    "\n",
    "In addition to comparing with the analyical solutions, we could check the energy conservation as well."
   ]
  },
  {
   "cell_type": "code",
   "execution_count": null,
   "metadata": {},
   "outputs": [],
   "source": []
  },
  {
   "cell_type": "markdown",
   "metadata": {},
   "source": [
    "Also, comput the numerical errors"
   ]
  },
  {
   "cell_type": "code",
   "execution_count": null,
   "metadata": {},
   "outputs": [],
   "source": []
  },
  {
   "cell_type": "markdown",
   "metadata": {},
   "source": [
    "# Performance\n",
    "\n",
    "How fast is your calculation?\n",
    "\n",
    "In a reference calculation which I use 10^5 steps to integrate the IVP from `t =0` to `t=50` with `method=\"RK4\"`.\n",
    "A reference value using the `%timeit` function gives\n",
    "\n",
    "`1.37 s ± 16.9 ms per loop (mean ± std. dev. of 7 runs, 1 loop each)`\n",
    "\n",
    "and the same iteration with `method=\"Euler\"`,\n",
    "\n",
    "`310 ms ± 4.67 ms per loop (mean ± std. dev. of 7 runs, 1 loop each)`"
   ]
  },
  {
   "cell_type": "code",
   "execution_count": null,
   "metadata": {},
   "outputs": [],
   "source": [
    "t_eval = np.linspace(0,20,100000)"
   ]
  },
  {
   "cell_type": "code",
   "execution_count": null,
   "metadata": {},
   "outputs": [],
   "source": []
  }
 ],
 "metadata": {
  "kernelspec": {
   "display_name": "Python 3.9.13 ('comphyslab')",
   "language": "python",
   "name": "python3"
  },
  "language_info": {
   "codemirror_mode": {
    "name": "ipython",
    "version": 3
   },
   "file_extension": ".py",
   "mimetype": "text/x-python",
   "name": "python",
   "nbconvert_exporter": "python",
   "pygments_lexer": "ipython3",
   "version": "3.9.13"
  },
  "orig_nbformat": 4,
  "vscode": {
   "interpreter": {
    "hash": "8f0bcd1b4298e7001d18a405ab7bf6e793bc5e255b60eba5aae1bd7ca7b86ffe"
   }
  }
 },
 "nbformat": 4,
 "nbformat_minor": 2
}
